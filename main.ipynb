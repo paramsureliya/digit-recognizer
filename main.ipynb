{
 "cells": [
  {
   "cell_type": "code",
   "execution_count": 1,
   "id": "initial_id",
   "metadata": {
    "collapsed": true,
    "ExecuteTime": {
     "end_time": "2023-11-16T16:02:15.934238500Z",
     "start_time": "2023-11-16T16:02:02.790709200Z"
    }
   },
   "outputs": [
    {
     "name": "stdout",
     "output_type": "stream",
     "text": [
      "Requirement already satisfied: kaggle in c:\\users\\param m. sureliya\\pycharmprojects\\digit recognizer\\venv\\lib\\site-packages (1.5.16)\n",
      "Requirement already satisfied: six>=1.10 in c:\\users\\param m. sureliya\\pycharmprojects\\digit recognizer\\venv\\lib\\site-packages (from kaggle) (1.16.0)\n",
      "Requirement already satisfied: certifi in c:\\users\\param m. sureliya\\pycharmprojects\\digit recognizer\\venv\\lib\\site-packages (from kaggle) (2023.7.22)\n",
      "Requirement already satisfied: python-dateutil in c:\\users\\param m. sureliya\\pycharmprojects\\digit recognizer\\venv\\lib\\site-packages (from kaggle) (2.8.2)\n",
      "Requirement already satisfied: requests in c:\\users\\param m. sureliya\\pycharmprojects\\digit recognizer\\venv\\lib\\site-packages (from kaggle) (2.31.0)\n",
      "Requirement already satisfied: tqdm in c:\\users\\param m. sureliya\\pycharmprojects\\digit recognizer\\venv\\lib\\site-packages (from kaggle) (4.66.1)\n",
      "Requirement already satisfied: python-slugify in c:\\users\\param m. sureliya\\pycharmprojects\\digit recognizer\\venv\\lib\\site-packages (from kaggle) (8.0.1)\n",
      "Requirement already satisfied: urllib3 in c:\\users\\param m. sureliya\\pycharmprojects\\digit recognizer\\venv\\lib\\site-packages (from kaggle) (2.0.7)\n",
      "Requirement already satisfied: bleach in c:\\users\\param m. sureliya\\pycharmprojects\\digit recognizer\\venv\\lib\\site-packages (from kaggle) (6.1.0)\n",
      "Requirement already satisfied: webencodings in c:\\users\\param m. sureliya\\pycharmprojects\\digit recognizer\\venv\\lib\\site-packages (from bleach->kaggle) (0.5.1)\n",
      "Requirement already satisfied: text-unidecode>=1.3 in c:\\users\\param m. sureliya\\pycharmprojects\\digit recognizer\\venv\\lib\\site-packages (from python-slugify->kaggle) (1.3)\n",
      "Requirement already satisfied: charset-normalizer<4,>=2 in c:\\users\\param m. sureliya\\pycharmprojects\\digit recognizer\\venv\\lib\\site-packages (from requests->kaggle) (3.3.2)\n",
      "Requirement already satisfied: idna<4,>=2.5 in c:\\users\\param m. sureliya\\pycharmprojects\\digit recognizer\\venv\\lib\\site-packages (from requests->kaggle) (3.4)\n",
      "Requirement already satisfied: colorama in c:\\users\\param m. sureliya\\pycharmprojects\\digit recognizer\\venv\\lib\\site-packages (from tqdm->kaggle) (0.4.6)\n",
      "Requirement already satisfied: numpy in c:\\users\\param m. sureliya\\pycharmprojects\\digit recognizer\\venv\\lib\\site-packages (1.26.1)\n",
      "Requirement already satisfied: pandas in c:\\users\\param m. sureliya\\pycharmprojects\\digit recognizer\\venv\\lib\\site-packages (2.1.2)\n",
      "Requirement already satisfied: numpy<2,>=1.22.4 in c:\\users\\param m. sureliya\\pycharmprojects\\digit recognizer\\venv\\lib\\site-packages (from pandas) (1.26.1)\n",
      "Requirement already satisfied: python-dateutil>=2.8.2 in c:\\users\\param m. sureliya\\pycharmprojects\\digit recognizer\\venv\\lib\\site-packages (from pandas) (2.8.2)\n",
      "Requirement already satisfied: pytz>=2020.1 in c:\\users\\param m. sureliya\\pycharmprojects\\digit recognizer\\venv\\lib\\site-packages (from pandas) (2023.3.post1)\n",
      "Requirement already satisfied: tzdata>=2022.1 in c:\\users\\param m. sureliya\\pycharmprojects\\digit recognizer\\venv\\lib\\site-packages (from pandas) (2023.3)\n",
      "Requirement already satisfied: six>=1.5 in c:\\users\\param m. sureliya\\pycharmprojects\\digit recognizer\\venv\\lib\\site-packages (from python-dateutil>=2.8.2->pandas) (1.16.0)\n",
      "Requirement already satisfied: matplotlib in c:\\users\\param m. sureliya\\pycharmprojects\\digit recognizer\\venv\\lib\\site-packages (3.8.1)\n",
      "Requirement already satisfied: contourpy>=1.0.1 in c:\\users\\param m. sureliya\\pycharmprojects\\digit recognizer\\venv\\lib\\site-packages (from matplotlib) (1.2.0)\n",
      "Requirement already satisfied: cycler>=0.10 in c:\\users\\param m. sureliya\\pycharmprojects\\digit recognizer\\venv\\lib\\site-packages (from matplotlib) (0.12.1)\n",
      "Requirement already satisfied: fonttools>=4.22.0 in c:\\users\\param m. sureliya\\pycharmprojects\\digit recognizer\\venv\\lib\\site-packages (from matplotlib) (4.44.0)\n",
      "Requirement already satisfied: kiwisolver>=1.3.1 in c:\\users\\param m. sureliya\\pycharmprojects\\digit recognizer\\venv\\lib\\site-packages (from matplotlib) (1.4.5)\n",
      "Requirement already satisfied: numpy<2,>=1.21 in c:\\users\\param m. sureliya\\pycharmprojects\\digit recognizer\\venv\\lib\\site-packages (from matplotlib) (1.26.1)\n",
      "Requirement already satisfied: packaging>=20.0 in c:\\users\\param m. sureliya\\pycharmprojects\\digit recognizer\\venv\\lib\\site-packages (from matplotlib) (23.2)\n",
      "Requirement already satisfied: pillow>=8 in c:\\users\\param m. sureliya\\pycharmprojects\\digit recognizer\\venv\\lib\\site-packages (from matplotlib) (10.1.0)\n",
      "Requirement already satisfied: pyparsing>=2.3.1 in c:\\users\\param m. sureliya\\pycharmprojects\\digit recognizer\\venv\\lib\\site-packages (from matplotlib) (3.1.1)\n",
      "Requirement already satisfied: python-dateutil>=2.7 in c:\\users\\param m. sureliya\\pycharmprojects\\digit recognizer\\venv\\lib\\site-packages (from matplotlib) (2.8.2)\n",
      "Requirement already satisfied: six>=1.5 in c:\\users\\param m. sureliya\\pycharmprojects\\digit recognizer\\venv\\lib\\site-packages (from python-dateutil>=2.7->matplotlib) (1.16.0)\n",
      "Requirement already satisfied: tensorflow in c:\\users\\param m. sureliya\\pycharmprojects\\digit recognizer\\venv\\lib\\site-packages (2.14.0)\n",
      "Requirement already satisfied: tensorflow-intel==2.14.0 in c:\\users\\param m. sureliya\\pycharmprojects\\digit recognizer\\venv\\lib\\site-packages (from tensorflow) (2.14.0)\n",
      "Requirement already satisfied: absl-py>=1.0.0 in c:\\users\\param m. sureliya\\pycharmprojects\\digit recognizer\\venv\\lib\\site-packages (from tensorflow-intel==2.14.0->tensorflow) (2.0.0)\n",
      "Requirement already satisfied: astunparse>=1.6.0 in c:\\users\\param m. sureliya\\pycharmprojects\\digit recognizer\\venv\\lib\\site-packages (from tensorflow-intel==2.14.0->tensorflow) (1.6.3)\n",
      "Requirement already satisfied: flatbuffers>=23.5.26 in c:\\users\\param m. sureliya\\pycharmprojects\\digit recognizer\\venv\\lib\\site-packages (from tensorflow-intel==2.14.0->tensorflow) (23.5.26)\n",
      "Requirement already satisfied: gast!=0.5.0,!=0.5.1,!=0.5.2,>=0.2.1 in c:\\users\\param m. sureliya\\pycharmprojects\\digit recognizer\\venv\\lib\\site-packages (from tensorflow-intel==2.14.0->tensorflow) (0.5.4)\n",
      "Requirement already satisfied: google-pasta>=0.1.1 in c:\\users\\param m. sureliya\\pycharmprojects\\digit recognizer\\venv\\lib\\site-packages (from tensorflow-intel==2.14.0->tensorflow) (0.2.0)\n",
      "Requirement already satisfied: h5py>=2.9.0 in c:\\users\\param m. sureliya\\pycharmprojects\\digit recognizer\\venv\\lib\\site-packages (from tensorflow-intel==2.14.0->tensorflow) (3.10.0)\n",
      "Requirement already satisfied: libclang>=13.0.0 in c:\\users\\param m. sureliya\\pycharmprojects\\digit recognizer\\venv\\lib\\site-packages (from tensorflow-intel==2.14.0->tensorflow) (16.0.6)\n",
      "Requirement already satisfied: ml-dtypes==0.2.0 in c:\\users\\param m. sureliya\\pycharmprojects\\digit recognizer\\venv\\lib\\site-packages (from tensorflow-intel==2.14.0->tensorflow) (0.2.0)\n",
      "Requirement already satisfied: numpy>=1.23.5 in c:\\users\\param m. sureliya\\pycharmprojects\\digit recognizer\\venv\\lib\\site-packages (from tensorflow-intel==2.14.0->tensorflow) (1.26.1)\n",
      "Requirement already satisfied: opt-einsum>=2.3.2 in c:\\users\\param m. sureliya\\pycharmprojects\\digit recognizer\\venv\\lib\\site-packages (from tensorflow-intel==2.14.0->tensorflow) (3.3.0)\n",
      "Requirement already satisfied: packaging in c:\\users\\param m. sureliya\\pycharmprojects\\digit recognizer\\venv\\lib\\site-packages (from tensorflow-intel==2.14.0->tensorflow) (23.2)\n",
      "Requirement already satisfied: protobuf!=4.21.0,!=4.21.1,!=4.21.2,!=4.21.3,!=4.21.4,!=4.21.5,<5.0.0dev,>=3.20.3 in c:\\users\\param m. sureliya\\pycharmprojects\\digit recognizer\\venv\\lib\\site-packages (from tensorflow-intel==2.14.0->tensorflow) (4.25.0)\n",
      "Requirement already satisfied: setuptools in c:\\users\\param m. sureliya\\pycharmprojects\\digit recognizer\\venv\\lib\\site-packages (from tensorflow-intel==2.14.0->tensorflow) (68.2.0)\n",
      "Requirement already satisfied: six>=1.12.0 in c:\\users\\param m. sureliya\\pycharmprojects\\digit recognizer\\venv\\lib\\site-packages (from tensorflow-intel==2.14.0->tensorflow) (1.16.0)\n",
      "Requirement already satisfied: termcolor>=1.1.0 in c:\\users\\param m. sureliya\\pycharmprojects\\digit recognizer\\venv\\lib\\site-packages (from tensorflow-intel==2.14.0->tensorflow) (2.3.0)\n",
      "Requirement already satisfied: typing-extensions>=3.6.6 in c:\\users\\param m. sureliya\\pycharmprojects\\digit recognizer\\venv\\lib\\site-packages (from tensorflow-intel==2.14.0->tensorflow) (4.8.0)\n",
      "Requirement already satisfied: wrapt<1.15,>=1.11.0 in c:\\users\\param m. sureliya\\pycharmprojects\\digit recognizer\\venv\\lib\\site-packages (from tensorflow-intel==2.14.0->tensorflow) (1.14.1)\n",
      "Requirement already satisfied: tensorflow-io-gcs-filesystem>=0.23.1 in c:\\users\\param m. sureliya\\pycharmprojects\\digit recognizer\\venv\\lib\\site-packages (from tensorflow-intel==2.14.0->tensorflow) (0.31.0)\n",
      "Requirement already satisfied: grpcio<2.0,>=1.24.3 in c:\\users\\param m. sureliya\\pycharmprojects\\digit recognizer\\venv\\lib\\site-packages (from tensorflow-intel==2.14.0->tensorflow) (1.59.2)\n",
      "Requirement already satisfied: tensorboard<2.15,>=2.14 in c:\\users\\param m. sureliya\\pycharmprojects\\digit recognizer\\venv\\lib\\site-packages (from tensorflow-intel==2.14.0->tensorflow) (2.14.1)\n",
      "Requirement already satisfied: tensorflow-estimator<2.15,>=2.14.0 in c:\\users\\param m. sureliya\\pycharmprojects\\digit recognizer\\venv\\lib\\site-packages (from tensorflow-intel==2.14.0->tensorflow) (2.14.0)\n",
      "Requirement already satisfied: keras<2.15,>=2.14.0 in c:\\users\\param m. sureliya\\pycharmprojects\\digit recognizer\\venv\\lib\\site-packages (from tensorflow-intel==2.14.0->tensorflow) (2.14.0)\n",
      "Requirement already satisfied: wheel<1.0,>=0.23.0 in c:\\users\\param m. sureliya\\pycharmprojects\\digit recognizer\\venv\\lib\\site-packages (from astunparse>=1.6.0->tensorflow-intel==2.14.0->tensorflow) (0.41.2)\n",
      "Requirement already satisfied: google-auth<3,>=1.6.3 in c:\\users\\param m. sureliya\\pycharmprojects\\digit recognizer\\venv\\lib\\site-packages (from tensorboard<2.15,>=2.14->tensorflow-intel==2.14.0->tensorflow) (2.23.4)\n",
      "Requirement already satisfied: google-auth-oauthlib<1.1,>=0.5 in c:\\users\\param m. sureliya\\pycharmprojects\\digit recognizer\\venv\\lib\\site-packages (from tensorboard<2.15,>=2.14->tensorflow-intel==2.14.0->tensorflow) (1.0.0)\n",
      "Requirement already satisfied: markdown>=2.6.8 in c:\\users\\param m. sureliya\\pycharmprojects\\digit recognizer\\venv\\lib\\site-packages (from tensorboard<2.15,>=2.14->tensorflow-intel==2.14.0->tensorflow) (3.5.1)\n",
      "Requirement already satisfied: requests<3,>=2.21.0 in c:\\users\\param m. sureliya\\pycharmprojects\\digit recognizer\\venv\\lib\\site-packages (from tensorboard<2.15,>=2.14->tensorflow-intel==2.14.0->tensorflow) (2.31.0)\n",
      "Requirement already satisfied: tensorboard-data-server<0.8.0,>=0.7.0 in c:\\users\\param m. sureliya\\pycharmprojects\\digit recognizer\\venv\\lib\\site-packages (from tensorboard<2.15,>=2.14->tensorflow-intel==2.14.0->tensorflow) (0.7.2)\n",
      "Requirement already satisfied: werkzeug>=1.0.1 in c:\\users\\param m. sureliya\\pycharmprojects\\digit recognizer\\venv\\lib\\site-packages (from tensorboard<2.15,>=2.14->tensorflow-intel==2.14.0->tensorflow) (3.0.1)\n",
      "Requirement already satisfied: cachetools<6.0,>=2.0.0 in c:\\users\\param m. sureliya\\pycharmprojects\\digit recognizer\\venv\\lib\\site-packages (from google-auth<3,>=1.6.3->tensorboard<2.15,>=2.14->tensorflow-intel==2.14.0->tensorflow) (5.3.2)\n",
      "Requirement already satisfied: pyasn1-modules>=0.2.1 in c:\\users\\param m. sureliya\\pycharmprojects\\digit recognizer\\venv\\lib\\site-packages (from google-auth<3,>=1.6.3->tensorboard<2.15,>=2.14->tensorflow-intel==2.14.0->tensorflow) (0.3.0)\n",
      "Requirement already satisfied: rsa<5,>=3.1.4 in c:\\users\\param m. sureliya\\pycharmprojects\\digit recognizer\\venv\\lib\\site-packages (from google-auth<3,>=1.6.3->tensorboard<2.15,>=2.14->tensorflow-intel==2.14.0->tensorflow) (4.9)\n",
      "Requirement already satisfied: requests-oauthlib>=0.7.0 in c:\\users\\param m. sureliya\\pycharmprojects\\digit recognizer\\venv\\lib\\site-packages (from google-auth-oauthlib<1.1,>=0.5->tensorboard<2.15,>=2.14->tensorflow-intel==2.14.0->tensorflow) (1.3.1)\n",
      "Requirement already satisfied: charset-normalizer<4,>=2 in c:\\users\\param m. sureliya\\pycharmprojects\\digit recognizer\\venv\\lib\\site-packages (from requests<3,>=2.21.0->tensorboard<2.15,>=2.14->tensorflow-intel==2.14.0->tensorflow) (3.3.2)\n",
      "Requirement already satisfied: idna<4,>=2.5 in c:\\users\\param m. sureliya\\pycharmprojects\\digit recognizer\\venv\\lib\\site-packages (from requests<3,>=2.21.0->tensorboard<2.15,>=2.14->tensorflow-intel==2.14.0->tensorflow) (3.4)\n",
      "Requirement already satisfied: urllib3<3,>=1.21.1 in c:\\users\\param m. sureliya\\pycharmprojects\\digit recognizer\\venv\\lib\\site-packages (from requests<3,>=2.21.0->tensorboard<2.15,>=2.14->tensorflow-intel==2.14.0->tensorflow) (2.0.7)\n",
      "Requirement already satisfied: certifi>=2017.4.17 in c:\\users\\param m. sureliya\\pycharmprojects\\digit recognizer\\venv\\lib\\site-packages (from requests<3,>=2.21.0->tensorboard<2.15,>=2.14->tensorflow-intel==2.14.0->tensorflow) (2023.7.22)\n",
      "Requirement already satisfied: MarkupSafe>=2.1.1 in c:\\users\\param m. sureliya\\pycharmprojects\\digit recognizer\\venv\\lib\\site-packages (from werkzeug>=1.0.1->tensorboard<2.15,>=2.14->tensorflow-intel==2.14.0->tensorflow) (2.1.3)\n",
      "Requirement already satisfied: pyasn1<0.6.0,>=0.4.6 in c:\\users\\param m. sureliya\\pycharmprojects\\digit recognizer\\venv\\lib\\site-packages (from pyasn1-modules>=0.2.1->google-auth<3,>=1.6.3->tensorboard<2.15,>=2.14->tensorflow-intel==2.14.0->tensorflow) (0.5.0)\n",
      "Requirement already satisfied: oauthlib>=3.0.0 in c:\\users\\param m. sureliya\\pycharmprojects\\digit recognizer\\venv\\lib\\site-packages (from requests-oauthlib>=0.7.0->google-auth-oauthlib<1.1,>=0.5->tensorboard<2.15,>=2.14->tensorflow-intel==2.14.0->tensorflow) (3.2.2)\n",
      "Requirement already satisfied: numpy in c:\\users\\param m. sureliya\\pycharmprojects\\digit recognizer\\venv\\lib\\site-packages (1.26.1)\n",
      "Requirement already satisfied: scipy in c:\\users\\param m. sureliya\\pycharmprojects\\digit recognizer\\venv\\lib\\site-packages (1.11.3)\n",
      "Requirement already satisfied: scikit-learn in c:\\users\\param m. sureliya\\pycharmprojects\\digit recognizer\\venv\\lib\\site-packages (1.3.2)\n",
      "Requirement already satisfied: joblib>=1.1.1 in c:\\users\\param m. sureliya\\pycharmprojects\\digit recognizer\\venv\\lib\\site-packages (from scikit-learn) (1.3.2)\n",
      "Requirement already satisfied: threadpoolctl>=2.0.0 in c:\\users\\param m. sureliya\\pycharmprojects\\digit recognizer\\venv\\lib\\site-packages (from scikit-learn) (3.2.0)\n"
     ]
    }
   ],
   "source": [
    "!pip install kaggle\n",
    "!pip install numpy\n",
    "!pip install pandas\n",
    "!pip install matplotlib\n",
    "!pip install tensorflow\n",
    "!pip install numpy scipy scikit-learn\n"
   ]
  },
  {
   "cell_type": "code",
   "execution_count": 5,
   "outputs": [
    {
     "name": "stdout",
     "output_type": "stream",
     "text": [
      "Downloading digit-recognizer.zip to C:\\Users\\PARAM M. SURELIYA\\PycharmProjects\\digit recognizer\n"
     ]
    },
    {
     "name": "stderr",
     "output_type": "stream",
     "text": [
      "\n",
      "  0%|          | 0.00/15.3M [00:00<?, ?B/s]\n",
      "  7%|6         | 1.00M/15.3M [00:00<00:08, 1.76MB/s]\n",
      " 13%|#3        | 2.00M/15.3M [00:00<00:04, 3.44MB/s]\n",
      " 26%|##6       | 4.00M/15.3M [00:00<00:01, 6.10MB/s]\n",
      " 39%|###9      | 6.00M/15.3M [00:01<00:01, 7.75MB/s]\n",
      " 52%|#####2    | 8.00M/15.3M [00:01<00:00, 8.84MB/s]\n",
      " 65%|######5   | 10.0M/15.3M [00:01<00:00, 9.08MB/s]\n",
      " 78%|#######8  | 12.0M/15.3M [00:01<00:00, 9.71MB/s]\n",
      " 91%|#########1| 14.0M/15.3M [00:01<00:00, 10.2MB/s]\n",
      "100%|##########| 15.3M/15.3M [00:01<00:00, 10.4MB/s]\n",
      "100%|##########| 15.3M/15.3M [00:01<00:00, 8.14MB/s]\n"
     ]
    }
   ],
   "source": [
    "\n",
    "!kaggle competitions download -c digit-recognizer"
   ],
   "metadata": {
    "collapsed": false,
    "ExecuteTime": {
     "end_time": "2023-11-04T21:59:51.455358400Z",
     "start_time": "2023-11-04T21:59:47.982021100Z"
    }
   },
   "id": "76e48e7d71a473fb"
  },
  {
   "cell_type": "code",
   "execution_count": 11,
   "outputs": [],
   "source": [
    "from zipfile import ZipFile\n",
    "\n",
    "zf = ZipFile(r'C:\\Users\\PARAM M. SURELIYA\\PycharmProjects\\digit recognizer\\digit-recognizer.zip')\n",
    "zf.extractall(r'C:\\Users\\PARAM M. SURELIYA\\PycharmProjects\\digit recognizer')\n",
    "zf.close()"
   ],
   "metadata": {
    "collapsed": false,
    "ExecuteTime": {
     "end_time": "2023-11-04T22:06:09.542438500Z",
     "start_time": "2023-11-04T22:06:09.070931700Z"
    }
   },
   "id": "53f920284d516bf2"
  },
  {
   "cell_type": "code",
   "execution_count": 2,
   "outputs": [],
   "source": [
    "import numpy as np\n",
    "import pandas as pd\n",
    "import matplotlib.pyplot as plt\n",
    "import tensorflow as tf\n",
    "from sklearn.preprocessing import LabelEncoder\n",
    "from tensorflow.python import keras\n",
    "from tensorflow.keras.utils import to_categorical\n",
    "from tensorflow.keras.models import Sequential\n",
    "from tensorflow.keras.layers import Conv2D, MaxPooling2D, Flatten, Dense\n",
    "from keras.callbacks import EarlyStopping\n"
   ],
   "metadata": {
    "collapsed": false,
    "ExecuteTime": {
     "end_time": "2023-11-16T16:02:22.205336800Z",
     "start_time": "2023-11-16T16:02:15.934238500Z"
    }
   },
   "id": "47195f2fe82b479e"
  },
  {
   "cell_type": "code",
   "execution_count": 3,
   "outputs": [
    {
     "data": {
      "text/plain": "   label  pixel0  pixel1  pixel2  pixel3  pixel4  pixel5  pixel6  pixel7  \\\n0      1       0       0       0       0       0       0       0       0   \n1      0       0       0       0       0       0       0       0       0   \n2      1       0       0       0       0       0       0       0       0   \n3      4       0       0       0       0       0       0       0       0   \n4      0       0       0       0       0       0       0       0       0   \n\n   pixel8  ...  pixel774  pixel775  pixel776  pixel777  pixel778  pixel779  \\\n0       0  ...         0         0         0         0         0         0   \n1       0  ...         0         0         0         0         0         0   \n2       0  ...         0         0         0         0         0         0   \n3       0  ...         0         0         0         0         0         0   \n4       0  ...         0         0         0         0         0         0   \n\n   pixel780  pixel781  pixel782  pixel783  \n0         0         0         0         0  \n1         0         0         0         0  \n2         0         0         0         0  \n3         0         0         0         0  \n4         0         0         0         0  \n\n[5 rows x 785 columns]",
      "text/html": "<div>\n<style scoped>\n    .dataframe tbody tr th:only-of-type {\n        vertical-align: middle;\n    }\n\n    .dataframe tbody tr th {\n        vertical-align: top;\n    }\n\n    .dataframe thead th {\n        text-align: right;\n    }\n</style>\n<table border=\"1\" class=\"dataframe\">\n  <thead>\n    <tr style=\"text-align: right;\">\n      <th></th>\n      <th>label</th>\n      <th>pixel0</th>\n      <th>pixel1</th>\n      <th>pixel2</th>\n      <th>pixel3</th>\n      <th>pixel4</th>\n      <th>pixel5</th>\n      <th>pixel6</th>\n      <th>pixel7</th>\n      <th>pixel8</th>\n      <th>...</th>\n      <th>pixel774</th>\n      <th>pixel775</th>\n      <th>pixel776</th>\n      <th>pixel777</th>\n      <th>pixel778</th>\n      <th>pixel779</th>\n      <th>pixel780</th>\n      <th>pixel781</th>\n      <th>pixel782</th>\n      <th>pixel783</th>\n    </tr>\n  </thead>\n  <tbody>\n    <tr>\n      <th>0</th>\n      <td>1</td>\n      <td>0</td>\n      <td>0</td>\n      <td>0</td>\n      <td>0</td>\n      <td>0</td>\n      <td>0</td>\n      <td>0</td>\n      <td>0</td>\n      <td>0</td>\n      <td>...</td>\n      <td>0</td>\n      <td>0</td>\n      <td>0</td>\n      <td>0</td>\n      <td>0</td>\n      <td>0</td>\n      <td>0</td>\n      <td>0</td>\n      <td>0</td>\n      <td>0</td>\n    </tr>\n    <tr>\n      <th>1</th>\n      <td>0</td>\n      <td>0</td>\n      <td>0</td>\n      <td>0</td>\n      <td>0</td>\n      <td>0</td>\n      <td>0</td>\n      <td>0</td>\n      <td>0</td>\n      <td>0</td>\n      <td>...</td>\n      <td>0</td>\n      <td>0</td>\n      <td>0</td>\n      <td>0</td>\n      <td>0</td>\n      <td>0</td>\n      <td>0</td>\n      <td>0</td>\n      <td>0</td>\n      <td>0</td>\n    </tr>\n    <tr>\n      <th>2</th>\n      <td>1</td>\n      <td>0</td>\n      <td>0</td>\n      <td>0</td>\n      <td>0</td>\n      <td>0</td>\n      <td>0</td>\n      <td>0</td>\n      <td>0</td>\n      <td>0</td>\n      <td>...</td>\n      <td>0</td>\n      <td>0</td>\n      <td>0</td>\n      <td>0</td>\n      <td>0</td>\n      <td>0</td>\n      <td>0</td>\n      <td>0</td>\n      <td>0</td>\n      <td>0</td>\n    </tr>\n    <tr>\n      <th>3</th>\n      <td>4</td>\n      <td>0</td>\n      <td>0</td>\n      <td>0</td>\n      <td>0</td>\n      <td>0</td>\n      <td>0</td>\n      <td>0</td>\n      <td>0</td>\n      <td>0</td>\n      <td>...</td>\n      <td>0</td>\n      <td>0</td>\n      <td>0</td>\n      <td>0</td>\n      <td>0</td>\n      <td>0</td>\n      <td>0</td>\n      <td>0</td>\n      <td>0</td>\n      <td>0</td>\n    </tr>\n    <tr>\n      <th>4</th>\n      <td>0</td>\n      <td>0</td>\n      <td>0</td>\n      <td>0</td>\n      <td>0</td>\n      <td>0</td>\n      <td>0</td>\n      <td>0</td>\n      <td>0</td>\n      <td>0</td>\n      <td>...</td>\n      <td>0</td>\n      <td>0</td>\n      <td>0</td>\n      <td>0</td>\n      <td>0</td>\n      <td>0</td>\n      <td>0</td>\n      <td>0</td>\n      <td>0</td>\n      <td>0</td>\n    </tr>\n  </tbody>\n</table>\n<p>5 rows × 785 columns</p>\n</div>"
     },
     "execution_count": 3,
     "metadata": {},
     "output_type": "execute_result"
    }
   ],
   "source": [
    "train = pd.read_csv(\"train.csv\")\n",
    "test = pd.read_csv(\"test.csv\")\n",
    "train.head()\n"
   ],
   "metadata": {
    "collapsed": false,
    "ExecuteTime": {
     "end_time": "2023-11-16T16:02:34.272802400Z",
     "start_time": "2023-11-16T16:02:30.359984700Z"
    }
   },
   "id": "d58da58245c1fc79"
  },
  {
   "cell_type": "code",
   "execution_count": 4,
   "outputs": [
    {
     "name": "stdout",
     "output_type": "stream",
     "text": [
      "       pixel0  pixel1  pixel2  pixel3  pixel4  pixel5  pixel6  pixel7  pixel8  \\\n",
      "0           0       0       0       0       0       0       0       0       0   \n",
      "1           0       0       0       0       0       0       0       0       0   \n",
      "2           0       0       0       0       0       0       0       0       0   \n",
      "3           0       0       0       0       0       0       0       0       0   \n",
      "4           0       0       0       0       0       0       0       0       0   \n",
      "...       ...     ...     ...     ...     ...     ...     ...     ...     ...   \n",
      "27995       0       0       0       0       0       0       0       0       0   \n",
      "27996       0       0       0       0       0       0       0       0       0   \n",
      "27997       0       0       0       0       0       0       0       0       0   \n",
      "27998       0       0       0       0       0       0       0       0       0   \n",
      "27999       0       0       0       0       0       0       0       0       0   \n",
      "\n",
      "       pixel9  ...  pixel774  pixel775  pixel776  pixel777  pixel778  \\\n",
      "0           0  ...         0         0         0         0         0   \n",
      "1           0  ...         0         0         0         0         0   \n",
      "2           0  ...         0         0         0         0         0   \n",
      "3           0  ...         0         0         0         0         0   \n",
      "4           0  ...         0         0         0         0         0   \n",
      "...       ...  ...       ...       ...       ...       ...       ...   \n",
      "27995       0  ...         0         0         0         0         0   \n",
      "27996       0  ...         0         0         0         0         0   \n",
      "27997       0  ...         0         0         0         0         0   \n",
      "27998       0  ...         0         0         0         0         0   \n",
      "27999       0  ...         0         0         0         0         0   \n",
      "\n",
      "       pixel779  pixel780  pixel781  pixel782  pixel783  \n",
      "0             0         0         0         0         0  \n",
      "1             0         0         0         0         0  \n",
      "2             0         0         0         0         0  \n",
      "3             0         0         0         0         0  \n",
      "4             0         0         0         0         0  \n",
      "...         ...       ...       ...       ...       ...  \n",
      "27995         0         0         0         0         0  \n",
      "27996         0         0         0         0         0  \n",
      "27997         0         0         0         0         0  \n",
      "27998         0         0         0         0         0  \n",
      "27999         0         0         0         0         0  \n",
      "\n",
      "[28000 rows x 784 columns]\n",
      "0        1\n",
      "1        0\n",
      "2        1\n",
      "3        4\n",
      "4        0\n",
      "        ..\n",
      "41995    0\n",
      "41996    1\n",
      "41997    7\n",
      "41998    6\n",
      "41999    9\n",
      "Name: label, Length: 42000, dtype: int64\n"
     ]
    }
   ],
   "source": [
    "x_test = test\n",
    "x = train.drop(columns=['label'])\n",
    "y = train['label']\n",
    "print(x_test)\n",
    "print(y)"
   ],
   "metadata": {
    "collapsed": false,
    "ExecuteTime": {
     "end_time": "2023-11-16T16:02:37.060044300Z",
     "start_time": "2023-11-16T16:02:36.839956Z"
    }
   },
   "id": "a2e1c250e031fdb4"
  },
  {
   "cell_type": "code",
   "execution_count": 5,
   "outputs": [
    {
     "name": "stdout",
     "output_type": "stream",
     "text": [
      "0        1\n",
      "1        0\n",
      "2        1\n",
      "3        4\n",
      "4        0\n",
      "        ..\n",
      "41995    0\n",
      "41996    1\n",
      "41997    7\n",
      "41998    6\n",
      "41999    9\n",
      "Name: label, Length: 42000, dtype: int64\n",
      "[[0. 1. 0. ... 0. 0. 0.]\n",
      " [1. 0. 0. ... 0. 0. 0.]\n",
      " [0. 1. 0. ... 0. 0. 0.]\n",
      " ...\n",
      " [0. 0. 0. ... 1. 0. 0.]\n",
      " [0. 0. 0. ... 0. 0. 0.]\n",
      " [0. 0. 0. ... 0. 0. 1.]]\n",
      "(42000, 10)\n"
     ]
    }
   ],
   "source": [
    "# Encode labels\n",
    "print(y)\n",
    "label_encoder = LabelEncoder()\n",
    "y_train = label_encoder.fit_transform(y)\n",
    "y_train = to_categorical(y_train)\n",
    "print(y_train)\n",
    "print(y_train.shape)"
   ],
   "metadata": {
    "collapsed": false,
    "ExecuteTime": {
     "end_time": "2023-11-16T16:02:38.640170900Z",
     "start_time": "2023-11-16T16:02:38.577768100Z"
    }
   },
   "id": "b32d4a84e8215ebf"
  },
  {
   "cell_type": "code",
   "execution_count": 6,
   "outputs": [],
   "source": [
    "model = Sequential()\n",
    "model.add(Conv2D(32, (3, 3), activation='relu', input_shape=(28, 28, 1)))\n",
    "model.add(MaxPooling2D((2, 2)))\n",
    "model.add(Conv2D(32, (3, 3), activation='relu'))\n",
    "model.add(MaxPooling2D((2, 2)))\n",
    "model.add(Flatten())\n",
    "model.add(Dense(64, activation='relu'))\n",
    "model.add(Dense(10, activation='softmax'))"
   ],
   "metadata": {
    "collapsed": false,
    "ExecuteTime": {
     "end_time": "2023-11-16T16:03:13.877421600Z",
     "start_time": "2023-11-16T16:03:13.714390600Z"
    }
   },
   "id": "85a114842bab2fe8"
  },
  {
   "cell_type": "code",
   "execution_count": 7,
   "outputs": [],
   "source": [
    "# Compile the model\n",
    "model.compile(optimizer='adam', loss='categorical_crossentropy', metrics=['accuracy'])\n"
   ],
   "metadata": {
    "collapsed": false,
    "ExecuteTime": {
     "end_time": "2023-11-16T16:03:15.159178400Z",
     "start_time": "2023-11-16T16:03:15.080051800Z"
    }
   },
   "id": "670e5102cc547494"
  },
  {
   "cell_type": "markdown",
   "source": [],
   "metadata": {
    "collapsed": false
   },
   "id": "fca5f2a3275136c1"
  },
  {
   "cell_type": "code",
   "execution_count": 8,
   "outputs": [
    {
     "name": "stdout",
     "output_type": "stream",
     "text": [
      "Epoch 1/100\n",
      "132/132 [==============================] - 19s 134ms/step - loss: 2.9393 - accuracy: 0.7102 - val_loss: 0.3094 - val_accuracy: 0.9086\n",
      "Epoch 2/100\n",
      "132/132 [==============================] - 18s 134ms/step - loss: 0.2356 - accuracy: 0.9313 - val_loss: 0.1830 - val_accuracy: 0.9448\n",
      "Epoch 3/100\n",
      "132/132 [==============================] - 17s 132ms/step - loss: 0.1454 - accuracy: 0.9564 - val_loss: 0.1344 - val_accuracy: 0.9582\n",
      "Epoch 4/100\n",
      "132/132 [==============================] - 16s 123ms/step - loss: 0.1078 - accuracy: 0.9671 - val_loss: 0.1119 - val_accuracy: 0.9667\n",
      "Epoch 5/100\n",
      "132/132 [==============================] - 16s 123ms/step - loss: 0.0844 - accuracy: 0.9740 - val_loss: 0.1020 - val_accuracy: 0.9705\n",
      "Epoch 6/100\n",
      "132/132 [==============================] - 17s 126ms/step - loss: 0.0666 - accuracy: 0.9793 - val_loss: 0.0901 - val_accuracy: 0.9748\n",
      "Epoch 7/100\n",
      "132/132 [==============================] - 16s 119ms/step - loss: 0.0535 - accuracy: 0.9837 - val_loss: 0.0845 - val_accuracy: 0.9761\n",
      "Epoch 8/100\n",
      "132/132 [==============================] - 16s 122ms/step - loss: 0.0431 - accuracy: 0.9866 - val_loss: 0.0859 - val_accuracy: 0.9767\n",
      "Epoch 9/100\n",
      "132/132 [==============================] - 19s 148ms/step - loss: 0.0360 - accuracy: 0.9887 - val_loss: 0.0951 - val_accuracy: 0.9755\n",
      "Epoch 10/100\n",
      "132/132 [==============================] - 33s 253ms/step - loss: 0.0371 - accuracy: 0.9884 - val_loss: 0.1138 - val_accuracy: 0.9690\n",
      "Epoch 11/100\n",
      "132/132 [==============================] - 21s 161ms/step - loss: 0.0273 - accuracy: 0.9919 - val_loss: 0.0759 - val_accuracy: 0.9794\n",
      "Epoch 12/100\n",
      "132/132 [==============================] - 14s 106ms/step - loss: 0.0198 - accuracy: 0.9940 - val_loss: 0.0873 - val_accuracy: 0.9774\n",
      "Epoch 13/100\n",
      "132/132 [==============================] - 16s 119ms/step - loss: 0.0168 - accuracy: 0.9948 - val_loss: 0.0776 - val_accuracy: 0.9801\n",
      "Epoch 14/100\n",
      "132/132 [==============================] - 17s 127ms/step - loss: 0.0163 - accuracy: 0.9950 - val_loss: 0.0829 - val_accuracy: 0.9802\n",
      "Epoch 15/100\n",
      "132/132 [==============================] - 16s 122ms/step - loss: 0.0119 - accuracy: 0.9963 - val_loss: 0.1021 - val_accuracy: 0.9755\n",
      "Epoch 16/100\n",
      "132/132 [==============================] - 15s 112ms/step - loss: 0.0133 - accuracy: 0.9954 - val_loss: 0.0854 - val_accuracy: 0.9818\n",
      "Epoch 17/100\n",
      "132/132 [==============================] - 14s 106ms/step - loss: 0.0094 - accuracy: 0.9973 - val_loss: 0.0868 - val_accuracy: 0.9786\n",
      "Epoch 18/100\n",
      "132/132 [==============================] - 14s 105ms/step - loss: 0.0076 - accuracy: 0.9980 - val_loss: 0.0876 - val_accuracy: 0.9801\n",
      "Epoch 19/100\n",
      "132/132 [==============================] - 13s 98ms/step - loss: 0.0091 - accuracy: 0.9969 - val_loss: 0.0792 - val_accuracy: 0.9824\n",
      "Epoch 20/100\n",
      "132/132 [==============================] - 13s 95ms/step - loss: 0.0111 - accuracy: 0.9965 - val_loss: 0.0906 - val_accuracy: 0.9796\n",
      "Epoch 21/100\n",
      "132/132 [==============================] - 13s 99ms/step - loss: 0.0077 - accuracy: 0.9979 - val_loss: 0.0872 - val_accuracy: 0.9819\n",
      "Epoch 22/100\n",
      "132/132 [==============================] - 13s 97ms/step - loss: 0.0066 - accuracy: 0.9981 - val_loss: 0.0899 - val_accuracy: 0.9807\n",
      "Epoch 23/100\n",
      "132/132 [==============================] - 13s 99ms/step - loss: 0.0045 - accuracy: 0.9987 - val_loss: 0.0972 - val_accuracy: 0.9813\n",
      "Epoch 24/100\n",
      "132/132 [==============================] - 12s 94ms/step - loss: 0.0039 - accuracy: 0.9988 - val_loss: 0.0866 - val_accuracy: 0.9825\n",
      "Epoch 25/100\n",
      "132/132 [==============================] - 12s 94ms/step - loss: 0.0035 - accuracy: 0.9991 - val_loss: 0.0890 - val_accuracy: 0.9814\n",
      "Epoch 26/100\n",
      "132/132 [==============================] - 13s 97ms/step - loss: 0.0036 - accuracy: 0.9990 - val_loss: 0.1003 - val_accuracy: 0.9823\n",
      "Epoch 27/100\n",
      "132/132 [==============================] - 13s 96ms/step - loss: 0.0072 - accuracy: 0.9977 - val_loss: 0.1253 - val_accuracy: 0.9770\n",
      "Epoch 28/100\n",
      "132/132 [==============================] - 13s 98ms/step - loss: 0.0314 - accuracy: 0.9900 - val_loss: 0.1281 - val_accuracy: 0.9774\n",
      "Epoch 29/100\n",
      "132/132 [==============================] - 12s 94ms/step - loss: 0.0194 - accuracy: 0.9938 - val_loss: 0.1161 - val_accuracy: 0.9804\n",
      "Epoch 30/100\n",
      "132/132 [==============================] - 13s 96ms/step - loss: 0.0148 - accuracy: 0.9954 - val_loss: 0.0964 - val_accuracy: 0.9835\n",
      "Epoch 31/100\n",
      "132/132 [==============================] - 13s 95ms/step - loss: 0.0055 - accuracy: 0.9983 - val_loss: 0.1031 - val_accuracy: 0.9832\n",
      "Epoch 32/100\n",
      "132/132 [==============================] - 11s 86ms/step - loss: 0.0029 - accuracy: 0.9992 - val_loss: 0.0941 - val_accuracy: 0.9844\n",
      "Epoch 33/100\n",
      "132/132 [==============================] - 6s 49ms/step - loss: 0.0023 - accuracy: 0.9993 - val_loss: 0.0905 - val_accuracy: 0.9852\n",
      "Epoch 34/100\n",
      "132/132 [==============================] - 7s 52ms/step - loss: 0.0037 - accuracy: 0.9988 - val_loss: 0.1046 - val_accuracy: 0.9831\n",
      "Epoch 35/100\n",
      "132/132 [==============================] - 7s 52ms/step - loss: 0.0050 - accuracy: 0.9984 - val_loss: 0.1256 - val_accuracy: 0.9806\n",
      "Epoch 36/100\n",
      "132/132 [==============================] - 7s 52ms/step - loss: 0.0217 - accuracy: 0.9932 - val_loss: 0.1131 - val_accuracy: 0.9819\n",
      "Epoch 37/100\n",
      "132/132 [==============================] - 7s 52ms/step - loss: 0.0289 - accuracy: 0.9920 - val_loss: 0.1124 - val_accuracy: 0.9790\n",
      "Epoch 38/100\n",
      "132/132 [==============================] - 7s 52ms/step - loss: 0.0126 - accuracy: 0.9956 - val_loss: 0.1116 - val_accuracy: 0.9818\n",
      "Epoch 39/100\n",
      "132/132 [==============================] - 7s 52ms/step - loss: 0.0087 - accuracy: 0.9974 - val_loss: 0.1010 - val_accuracy: 0.9829\n",
      "Epoch 40/100\n",
      "132/132 [==============================] - 7s 53ms/step - loss: 0.0048 - accuracy: 0.9982 - val_loss: 0.1087 - val_accuracy: 0.9826\n",
      "Epoch 41/100\n",
      "132/132 [==============================] - 7s 54ms/step - loss: 0.0042 - accuracy: 0.9985 - val_loss: 0.1151 - val_accuracy: 0.9829\n",
      "Epoch 42/100\n",
      "132/132 [==============================] - 7s 55ms/step - loss: 0.0029 - accuracy: 0.9991 - val_loss: 0.1104 - val_accuracy: 0.9832\n",
      "Epoch 43/100\n",
      "132/132 [==============================] - ETA: 0s - loss: 0.0042 - accuracy: 0.9985Restoring model weights from the end of the best epoch: 33.\n",
      "132/132 [==============================] - 7s 55ms/step - loss: 0.0042 - accuracy: 0.9985 - val_loss: 0.1075 - val_accuracy: 0.9842\n",
      "Epoch 43: early stopping\n"
     ]
    },
    {
     "data": {
      "text/plain": "<Figure size 640x480 with 1 Axes>",
      "image/png": "[encoded data removed]"
     },
     "metadata": {},
     "output_type": "display_data"
    }
   ],
   "source": [
    "# Specify the GPU device(s) you want to use\n",
    "physical_devices = tf.config.list_physical_devices('GPU')\n",
    "if len(physical_devices) > 0:\n",
    "    tf.config.experimental.set_memory_growth(physical_devices[0], True)\n",
    "    \n",
    "# Specify the GPU device(s) you want to use\n",
    "early_stopping = EarlyStopping(monitor='val_accuracy', patience=10, verbose=2, restore_best_weights=True)\n",
    "\n",
    "# Fit the model with early stopping\n",
    "history = model.fit(x.values.reshape(-1, 28, 28, 1), y_train, epochs=100, batch_size=256, validation_split=0.2, callbacks=[early_stopping])\n",
    "\n",
    "# Optionally, plot training and validation curves\n",
    "import matplotlib.pyplot as plt\n",
    "\n",
    "plt.plot(history.history['loss'], label='Train Loss')\n",
    "plt.plot(history.history['val_loss'], label='Validation Loss')\n",
    "plt.legend()\n",
    "plt.show()\n",
    "# Train the model\n"
   ],
   "metadata": {
    "collapsed": false,
    "ExecuteTime": {
     "end_time": "2023-11-16T16:13:00.207389100Z",
     "start_time": "2023-11-16T16:03:32.792212100Z"
    }
   },
   "id": "1c659299c693a895"
  },
  {
   "cell_type": "code",
   "execution_count": 117,
   "outputs": [
    {
     "name": "stdout",
     "output_type": "stream",
     "text": [
      "875/875 [==============================] - 5s 6ms/step\n"
     ]
    }
   ],
   "source": [
    "test = test.reshape(-1, 28, 28, 1)\n",
    "results = model.predict(test)\n",
    "results = np.argmax(results,axis =1)\n",
    "results = pd.Series(results.tolist(), name=\"Label\")"
   ],
   "metadata": {
    "collapsed": false,
    "ExecuteTime": {
     "end_time": "2023-11-05T02:30:34.682717Z",
     "start_time": "2023-11-05T02:30:29.166882300Z"
    }
   },
   "id": "b571f69e44b7022a"
  },
  {
   "cell_type": "code",
   "execution_count": 118,
   "outputs": [],
   "source": [
    "submission = pd.concat([pd.Series(range(1,28001),name=\"ImageId\"),results],axis=1)\n",
    "submission.to_csv(\"submission.csv\",index=False)"
   ],
   "metadata": {
    "collapsed": false,
    "ExecuteTime": {
     "end_time": "2023-11-05T02:30:48.073948400Z",
     "start_time": "2023-11-05T02:30:48.033698900Z"
    }
   },
   "id": "f0c9a533a11953d1"
  },
  {
   "cell_type": "code",
   "execution_count": 119,
   "outputs": [
    {
     "name": "stdout",
     "output_type": "stream",
     "text": [
      "Successfully submitted to Digit Recognizer\n"
     ]
    },
    {
     "name": "stderr",
     "output_type": "stream",
     "text": [
      "\n",
      "  0%|          | 0.00/235k [00:00<?, ?B/s]\n",
      " 41%|####      | 96.0k/235k [00:00<00:00, 894kB/s]\n",
      " 95%|#########5| 224k/235k [00:00<00:00, 1.10MB/s]\n",
      "100%|##########| 235k/235k [00:01<00:00, 234kB/s] \n"
     ]
    }
   ],
   "source": [
    "!kaggle competitions submit -c digit-recognizer -f submission.csv -m \"Message\""
   ],
   "metadata": {
    "collapsed": false,
    "ExecuteTime": {
     "end_time": "2023-11-05T02:30:52.709749600Z",
     "start_time": "2023-11-05T02:30:49.664068300Z"
    }
   },
   "id": "4e802b34bd317a4e"
  },
  {
   "cell_type": "code",
   "execution_count": null,
   "outputs": [],
   "source": [],
   "metadata": {
    "collapsed": false
   },
   "id": "b44cdb79c3034f02"
  }
 ],
 "metadata": {
  "kernelspec": {
   "display_name": "Python 3",
   "language": "python",
   "name": "python3"
  },
  "language_info": {
   "codemirror_mode": {
    "name": "ipython",
    "version": 2
   },
   "file_extension": ".py",
   "mimetype": "text/x-python",
   "name": "python",
   "nbconvert_exporter": "python",
   "pygments_lexer": "ipython2",
   "version": "2.7.6"
  }
 },
 "nbformat": 4,
 "nbformat_minor": 5
}
